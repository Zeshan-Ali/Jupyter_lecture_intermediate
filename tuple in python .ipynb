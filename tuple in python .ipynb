{
 "cells": [
  {
   "cell_type": "code",
   "execution_count": 1,
   "id": "b0eeff16",
   "metadata": {},
   "outputs": [],
   "source": [
    "a = [1,2,3,4,]"
   ]
  },
  {
   "cell_type": "code",
   "execution_count": 2,
   "id": "72df3035",
   "metadata": {},
   "outputs": [],
   "source": [
    "a[0]=\"7\"   # list is mutable"
   ]
  },
  {
   "cell_type": "code",
   "execution_count": 3,
   "id": "a248945b",
   "metadata": {},
   "outputs": [
    {
     "data": {
      "text/plain": [
       "['7', 2, 3, 4]"
      ]
     },
     "execution_count": 3,
     "metadata": {},
     "output_type": "execute_result"
    }
   ],
   "source": [
    "a"
   ]
  },
  {
   "cell_type": "code",
   "execution_count": 4,
   "id": "2793f73a",
   "metadata": {},
   "outputs": [],
   "source": [
    "b = (1,2,3,4) # tuple is non mutable"
   ]
  },
  {
   "cell_type": "code",
   "execution_count": 5,
   "id": "88873a35",
   "metadata": {},
   "outputs": [
    {
     "ename": "TypeError",
     "evalue": "'tuple' object does not support item assignment",
     "output_type": "error",
     "traceback": [
      "\u001b[1;31m---------------------------------------------------------------------------\u001b[0m",
      "\u001b[1;31mTypeError\u001b[0m                                 Traceback (most recent call last)",
      "\u001b[1;32m~\\AppData\\Local\\Temp\\ipykernel_4140\\2638959170.py\u001b[0m in \u001b[0;36m<cell line: 1>\u001b[1;34m()\u001b[0m\n\u001b[1;32m----> 1\u001b[1;33m \u001b[0mb\u001b[0m\u001b[1;33m[\u001b[0m\u001b[1;36m0\u001b[0m\u001b[1;33m]\u001b[0m\u001b[1;33m=\u001b[0m\u001b[1;34m\"7\"\u001b[0m\u001b[1;33m\u001b[0m\u001b[1;33m\u001b[0m\u001b[0m\n\u001b[0m",
      "\u001b[1;31mTypeError\u001b[0m: 'tuple' object does not support item assignment"
     ]
    }
   ],
   "source": [
    "b[0]=\"7\""
   ]
  },
  {
   "cell_type": "code",
   "execution_count": 6,
   "id": "732c8cf3",
   "metadata": {},
   "outputs": [],
   "source": [
    "c = (\"7\",1,3,8,9.7)"
   ]
  },
  {
   "cell_type": "code",
   "execution_count": 7,
   "id": "0a2bb21c",
   "metadata": {},
   "outputs": [
    {
     "data": {
      "text/plain": [
       "('7', 1, 3, 8, 9.7)"
      ]
     },
     "execution_count": 7,
     "metadata": {},
     "output_type": "execute_result"
    }
   ],
   "source": [
    "c"
   ]
  },
  {
   "cell_type": "code",
   "execution_count": 11,
   "id": "2363bcd2",
   "metadata": {},
   "outputs": [],
   "source": [
    "t = (1,2,3,4)\n"
   ]
  },
  {
   "cell_type": "code",
   "execution_count": 12,
   "id": "4dab5d7b",
   "metadata": {},
   "outputs": [],
   "source": [
    "y = tuple()"
   ]
  },
  {
   "cell_type": "code",
   "execution_count": 21,
   "id": "40c9e4f8",
   "metadata": {},
   "outputs": [
    {
     "data": {
      "text/plain": [
       "tuple"
      ]
     },
     "execution_count": 21,
     "metadata": {},
     "output_type": "execute_result"
    }
   ],
   "source": [
    "type(tuple())"
   ]
  },
  {
   "cell_type": "code",
   "execution_count": 13,
   "id": "98a7a89c",
   "metadata": {},
   "outputs": [
    {
     "data": {
      "text/plain": [
       "()"
      ]
     },
     "execution_count": 13,
     "metadata": {},
     "output_type": "execute_result"
    }
   ],
   "source": [
    "y"
   ]
  },
  {
   "cell_type": "code",
   "execution_count": 14,
   "id": "ec3794d3",
   "metadata": {},
   "outputs": [
    {
     "data": {
      "text/plain": [
       "1"
      ]
     },
     "execution_count": 14,
     "metadata": {},
     "output_type": "execute_result"
    }
   ],
   "source": [
    "t[0]"
   ]
  },
  {
   "cell_type": "code",
   "execution_count": 15,
   "id": "9dabc45a",
   "metadata": {},
   "outputs": [
    {
     "name": "stdout",
     "output_type": "stream",
     "text": [
      "1\n",
      "2\n",
      "3\n",
      "4\n"
     ]
    }
   ],
   "source": [
    "for i in t:\n",
    "    print(i)"
   ]
  },
  {
   "cell_type": "code",
   "execution_count": 27,
   "id": "c313dfe0",
   "metadata": {},
   "outputs": [],
   "source": [
    "def create_tuple():\n",
    "    fruits = (\"banana\",\"apple\",\"mango\",\"gauava\")\n",
    "    veg = (\"alu\",\"piaz\",\"bengan\",\"lady finger\")  # local variabe \n",
    "    for f in t:\n",
    "        print(f)"
   ]
  },
  {
   "cell_type": "markdown",
   "id": "2211f334",
   "metadata": {},
   "source": [
    "> local variable: these are the variabe that are only accessible within their functions\n",
    "\n",
    "> global variiable: these are the variabl ethat are accessible in all over the program "
   ]
  },
  {
   "cell_type": "code",
   "execution_count": 26,
   "id": "c69fdf62",
   "metadata": {},
   "outputs": [
    {
     "name": "stdout",
     "output_type": "stream",
     "text": [
      "1\n",
      "2\n",
      "3\n",
      "4\n"
     ]
    }
   ],
   "source": [
    "create_tuple()"
   ]
  },
  {
   "cell_type": "code",
   "execution_count": 32,
   "id": "52909f9d",
   "metadata": {},
   "outputs": [],
   "source": [
    "fruits = (\"banana\",\"apple\",\"mango\",\"gauava\",\"strawwberry\")"
   ]
  },
  {
   "cell_type": "code",
   "execution_count": 29,
   "id": "283ccb9d",
   "metadata": {},
   "outputs": [
    {
     "ename": "NameError",
     "evalue": "name 'veg' is not defined",
     "output_type": "error",
     "traceback": [
      "\u001b[1;31m---------------------------------------------------------------------------\u001b[0m",
      "\u001b[1;31mNameError\u001b[0m                                 Traceback (most recent call last)",
      "\u001b[1;32m~\\AppData\\Local\\Temp\\ipykernel_4140\\871960146.py\u001b[0m in \u001b[0;36m<cell line: 1>\u001b[1;34m()\u001b[0m\n\u001b[1;32m----> 1\u001b[1;33m \u001b[1;32mfor\u001b[0m \u001b[0mv\u001b[0m \u001b[1;32min\u001b[0m \u001b[0mveg\u001b[0m\u001b[1;33m:\u001b[0m\u001b[1;33m\u001b[0m\u001b[1;33m\u001b[0m\u001b[0m\n\u001b[0m\u001b[0;32m      2\u001b[0m     \u001b[0mprint\u001b[0m\u001b[1;33m(\u001b[0m\u001b[0mv\u001b[0m\u001b[1;33m)\u001b[0m\u001b[1;33m\u001b[0m\u001b[1;33m\u001b[0m\u001b[0m\n",
      "\u001b[1;31mNameError\u001b[0m: name 'veg' is not defined"
     ]
    }
   ],
   "source": [
    "for v in veg:\n",
    "    print(v)"
   ]
  },
  {
   "cell_type": "code",
   "execution_count": 30,
   "id": "94b3b50a",
   "metadata": {},
   "outputs": [],
   "source": [
    "make_up = [\"lashes\",\"mskara\",\"foundation\"]"
   ]
  },
  {
   "cell_type": "code",
   "execution_count": 31,
   "id": "616497f9",
   "metadata": {},
   "outputs": [
    {
     "name": "stdout",
     "output_type": "stream",
     "text": [
      "yes lases are there\n"
     ]
    }
   ],
   "source": [
    "if \"lashes\" in make_up:\n",
    "    print(\"yes lases are there\")"
   ]
  },
  {
   "cell_type": "code",
   "execution_count": 33,
   "id": "1146c384",
   "metadata": {},
   "outputs": [
    {
     "data": {
      "text/plain": [
       "1"
      ]
     },
     "execution_count": 33,
     "metadata": {},
     "output_type": "execute_result"
    }
   ],
   "source": [
    "fruits.count(\"banana\")"
   ]
  },
  {
   "cell_type": "code",
   "execution_count": 34,
   "id": "3695e616",
   "metadata": {},
   "outputs": [
    {
     "data": {
      "text/plain": [
       "0"
      ]
     },
     "execution_count": 34,
     "metadata": {},
     "output_type": "execute_result"
    }
   ],
   "source": [
    "fruits.index(\"banana\")"
   ]
  },
  {
   "cell_type": "code",
   "execution_count": 40,
   "id": "b5810d86",
   "metadata": {},
   "outputs": [],
   "source": [
    "d = {\"name\":\"zeeshan\",\n",
    "    \"last_name\":\"ali\",\n",
    "     \"roll_No\":345 ,\n",
    "      \"class\":\"BS\"}  # index is set by user it can be any things\n",
    "e = (\"zeeshan\",\"BS\",345,\"ali\") # index is set by python start from 0 \n",
    "f = [\"zeeshan\",\"BS\",345,\"ali\"]  # index is set by python starts from 0"
   ]
  },
  {
   "cell_type": "code",
   "execution_count": 42,
   "id": "1bc6b54f",
   "metadata": {},
   "outputs": [
    {
     "name": "stdout",
     "output_type": "stream",
     "text": [
      "{'name': 'zeeshan', 'last_name': 'ali', 'roll_No': 345, 'class': 'BS'}\n",
      "('zeeshan', 'BS', 345, 'ali')\n",
      "['zeeshan', 'BS', 345, 'ali']\n"
     ]
    }
   ],
   "source": [
    "print(d)\n",
    "print(e)\n",
    "print(f)"
   ]
  },
  {
   "cell_type": "code",
   "execution_count": 47,
   "id": "c7694a64",
   "metadata": {},
   "outputs": [
    {
     "data": {
      "text/plain": [
       "'zeeshan'"
      ]
     },
     "execution_count": 47,
     "metadata": {},
     "output_type": "execute_result"
    }
   ],
   "source": [
    "d[\"name\"]"
   ]
  },
  {
   "cell_type": "code",
   "execution_count": 3,
   "id": "16ee5b25",
   "metadata": {},
   "outputs": [
    {
     "ename": "ModuleNotFoundError",
     "evalue": "No module named 'classes'",
     "output_type": "error",
     "traceback": [
      "\u001b[1;31m---------------------------------------------------------------------------\u001b[0m",
      "\u001b[1;31mModuleNotFoundError\u001b[0m                       Traceback (most recent call last)",
      "\u001b[1;32m~\\AppData\\Local\\Temp\\ipykernel_5000\\481688166.py\u001b[0m in \u001b[0;36m<cell line: 1>\u001b[1;34m()\u001b[0m\n\u001b[1;32m----> 1\u001b[1;33m \u001b[1;32mfrom\u001b[0m \u001b[0mclasses\u001b[0m \u001b[1;32mimport\u001b[0m \u001b[0mStudent\u001b[0m\u001b[1;33m\u001b[0m\u001b[1;33m\u001b[0m\u001b[0m\n\u001b[0m",
      "\u001b[1;31mModuleNotFoundError\u001b[0m: No module named 'classes'"
     ]
    }
   ],
   "source": [
    "from classes import Student"
   ]
  },
  {
   "cell_type": "code",
   "execution_count": null,
   "id": "001fda76",
   "metadata": {},
   "outputs": [],
   "source": []
  }
 ],
 "metadata": {
  "kernelspec": {
   "display_name": "Python 3 (ipykernel)",
   "language": "python",
   "name": "python3"
  },
  "language_info": {
   "codemirror_mode": {
    "name": "ipython",
    "version": 3
   },
   "file_extension": ".py",
   "mimetype": "text/x-python",
   "name": "python",
   "nbconvert_exporter": "python",
   "pygments_lexer": "ipython3",
   "version": "3.9.7"
  }
 },
 "nbformat": 4,
 "nbformat_minor": 5
}
