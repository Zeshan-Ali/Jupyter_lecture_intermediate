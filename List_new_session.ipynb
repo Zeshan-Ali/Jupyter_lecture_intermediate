{
 "cells": [
  {
   "cell_type": "code",
   "execution_count": 2,
   "id": "904ed150",
   "metadata": {},
   "outputs": [],
   "source": [
    "#welcome to list sessions\n",
    "make_up_kit = ['lashes', 'lipstick']"
   ]
  },
  {
   "cell_type": "code",
   "execution_count": 3,
   "id": "3fdefabe",
   "metadata": {},
   "outputs": [],
   "source": [
    "guests = ['ali', 'arham','ahmad','aqib','hassan']  # creating list"
   ]
  },
  {
   "cell_type": "code",
   "execution_count": 18,
   "id": "0ad64f43",
   "metadata": {},
   "outputs": [
    {
     "name": "stdout",
     "output_type": "stream",
     "text": [
      "ali\n",
      "ali\n"
     ]
    }
   ],
   "source": [
    "print(guests[-5])  # negtive indexing\n",
    "print(guests[0])   #positive indexing"
   ]
  },
  {
   "cell_type": "code",
   "execution_count": 19,
   "id": "d745ec9a",
   "metadata": {},
   "outputs": [],
   "source": [
    "a=5"
   ]
  },
  {
   "cell_type": "code",
   "execution_count": 20,
   "id": "463d16ba",
   "metadata": {},
   "outputs": [
    {
     "data": {
      "text/plain": [
       "5"
      ]
     },
     "execution_count": 20,
     "metadata": {},
     "output_type": "execute_result"
    }
   ],
   "source": [
    "a"
   ]
  },
  {
   "cell_type": "code",
   "execution_count": 21,
   "id": "c94cd40d",
   "metadata": {},
   "outputs": [],
   "source": [
    "a=67"
   ]
  },
  {
   "cell_type": "code",
   "execution_count": 22,
   "id": "8f9850fb",
   "metadata": {},
   "outputs": [
    {
     "data": {
      "text/plain": [
       "67"
      ]
     },
     "execution_count": 22,
     "metadata": {},
     "output_type": "execute_result"
    }
   ],
   "source": [
    "a"
   ]
  },
  {
   "cell_type": "code",
   "execution_count": 23,
   "id": "39c5921f",
   "metadata": {},
   "outputs": [
    {
     "data": {
      "text/plain": [
       "'ali'"
      ]
     },
     "execution_count": 23,
     "metadata": {},
     "output_type": "execute_result"
    }
   ],
   "source": [
    "guests[0]"
   ]
  },
  {
   "cell_type": "code",
   "execution_count": 24,
   "id": "481dbd76",
   "metadata": {},
   "outputs": [],
   "source": [
    "guests[0]='haider' #updating list"
   ]
  },
  {
   "cell_type": "code",
   "execution_count": 28,
   "id": "0b166857",
   "metadata": {},
   "outputs": [
    {
     "data": {
      "text/plain": [
       "['haider', 'arham', 'ahmad', 'aqib', 'hassan']"
      ]
     },
     "execution_count": 28,
     "metadata": {},
     "output_type": "execute_result"
    }
   ],
   "source": [
    "guests"
   ]
  },
  {
   "cell_type": "code",
   "execution_count": 29,
   "id": "5e800d2f",
   "metadata": {},
   "outputs": [],
   "source": [
    "guests[4]= \"yaqoob\" "
   ]
  },
  {
   "cell_type": "code",
   "execution_count": 30,
   "id": "cedec8bb",
   "metadata": {},
   "outputs": [],
   "source": [
    "guests.append(\"rafique\")  # append add element at th end of list"
   ]
  },
  {
   "cell_type": "code",
   "execution_count": 31,
   "id": "14586196",
   "metadata": {},
   "outputs": [
    {
     "data": {
      "text/plain": [
       "['haider', 'arham', 'ahmad', 'aqib', 'yaqoob', 'rafique']"
      ]
     },
     "execution_count": 31,
     "metadata": {},
     "output_type": "execute_result"
    }
   ],
   "source": [
    "guests"
   ]
  },
  {
   "cell_type": "code",
   "execution_count": 32,
   "id": "558af123",
   "metadata": {},
   "outputs": [],
   "source": [
    "guests.insert(3,\"rahat\") # add eleement in desired index"
   ]
  },
  {
   "cell_type": "code",
   "execution_count": 39,
   "id": "ab6de2b8",
   "metadata": {},
   "outputs": [
    {
     "data": {
      "text/plain": [
       "['arham', 'rahat', 'aqib', 'yaqoob', 'rafique']"
      ]
     },
     "execution_count": 39,
     "metadata": {},
     "output_type": "execute_result"
    }
   ],
   "source": [
    "guests"
   ]
  },
  {
   "cell_type": "code",
   "execution_count": 42,
   "id": "146ab1db",
   "metadata": {},
   "outputs": [],
   "source": [
    "guests.remove(\"rafique\") # remove kr dy gfa elementko by value"
   ]
  },
  {
   "cell_type": "code",
   "execution_count": 43,
   "id": "7736fecc",
   "metadata": {},
   "outputs": [
    {
     "data": {
      "text/plain": [
       "['arham', 'rahat', 'aqib', 'yaqoob']"
      ]
     },
     "execution_count": 43,
     "metadata": {},
     "output_type": "execute_result"
    }
   ],
   "source": [
    "guests"
   ]
  },
  {
   "cell_type": "code",
   "execution_count": 44,
   "id": "e52d7e0e",
   "metadata": {},
   "outputs": [],
   "source": [
    "del guests[3] # remove elemnt bu index"
   ]
  },
  {
   "cell_type": "code",
   "execution_count": 45,
   "id": "a61f9f32",
   "metadata": {},
   "outputs": [
    {
     "data": {
      "text/plain": [
       "['arham', 'rahat', 'aqib']"
      ]
     },
     "execution_count": 45,
     "metadata": {},
     "output_type": "execute_result"
    }
   ],
   "source": [
    "guests"
   ]
  },
  {
   "cell_type": "code",
   "execution_count": 46,
   "id": "a83d9132",
   "metadata": {},
   "outputs": [
    {
     "data": {
      "text/plain": [
       "2"
      ]
     },
     "execution_count": 46,
     "metadata": {},
     "output_type": "execute_result"
    }
   ],
   "source": [
    "guests.index(\"aqib\") # to finding item in list by value"
   ]
  },
  {
   "cell_type": "code",
   "execution_count": 47,
   "id": "eaa7da44",
   "metadata": {},
   "outputs": [
    {
     "data": {
      "text/plain": [
       "['arham', 'rahat', 'aqib']"
      ]
     },
     "execution_count": 47,
     "metadata": {},
     "output_type": "execute_result"
    }
   ],
   "source": [
    "guests"
   ]
  },
  {
   "cell_type": "code",
   "execution_count": 51,
   "id": "de8c496c",
   "metadata": {},
   "outputs": [
    {
     "name": "stdout",
     "output_type": "stream",
     "text": [
      "arham\n",
      "rahat\n",
      "aqib\n"
     ]
    }
   ],
   "source": [
    "for name in guests:\n",
    "    print(name)"
   ]
  },
  {
   "cell_type": "code",
   "execution_count": 52,
   "id": "d64d0aaf",
   "metadata": {},
   "outputs": [],
   "source": [
    "entries= len(guests)"
   ]
  },
  {
   "cell_type": "code",
   "execution_count": 53,
   "id": "0f75e19d",
   "metadata": {},
   "outputs": [
    {
     "data": {
      "text/plain": [
       "3"
      ]
     },
     "execution_count": 53,
     "metadata": {},
     "output_type": "execute_result"
    }
   ],
   "source": [
    "entries"
   ]
  },
  {
   "cell_type": "code",
   "execution_count": 57,
   "id": "29a8d6a5",
   "metadata": {},
   "outputs": [
    {
     "name": "stdout",
     "output_type": "stream",
     "text": [
      "arham\n",
      "rahat\n",
      "aqib\n"
     ]
    }
   ],
   "source": [
    "for n in range(entries):\n",
    "    print(guests[n])"
   ]
  },
  {
   "cell_type": "code",
   "execution_count": 62,
   "id": "fd6cd56e",
   "metadata": {},
   "outputs": [],
   "source": [
    "makeup_kit=[]"
   ]
  },
  {
   "cell_type": "code",
   "execution_count": 68,
   "id": "891ede4f",
   "metadata": {},
   "outputs": [
    {
     "name": "stdout",
     "output_type": "stream",
     "text": [
      "please enter any item in your kit:choty brush\n",
      "do you want add more item enter y for yes and n fo no:n\n",
      "item in you kit is: lashes\n",
      "item in you kit is: liptick\n",
      "item in you kit is: foundation\n",
      "item in you kit is: primer\n",
      "item in you kit is: liner\n",
      "item in you kit is: blusher\n",
      "item in you kit is: hair brush\n",
      "item in you kit is: rang\n",
      "item in you kit is: choty brush\n"
     ]
    }
   ],
   "source": [
    "item = input(\"please enter any item in your kit:\")\n",
    "makeup_kit.append(item)\n",
    "choice = input(\"do you want add more item enter y for yes and n fo no:\")\n",
    "while(choice == \"y\"):\n",
    "    item = input(\"please enter any item in your kit:\")\n",
    "    choice = input(\"do you want add more item enter y for yes and n fo no:\")\n",
    "    makeup_kit.append(item)\n",
    "for kit in makeup_kit:\n",
    "    \n",
    "    print(\"item in you kit is:\",kit)"
   ]
  },
  {
   "cell_type": "code",
   "execution_count": 66,
   "id": "581ac617",
   "metadata": {},
   "outputs": [
    {
     "name": "stdout",
     "output_type": "stream",
     "text": [
      "['lashes', 'liptick', 'foundation', 'primer', 'liner']\n"
     ]
    }
   ],
   "source": []
  },
  {
   "cell_type": "code",
   "execution_count": null,
   "id": "770f2b67",
   "metadata": {},
   "outputs": [],
   "source": []
  }
 ],
 "metadata": {
  "kernelspec": {
   "display_name": "Python 3 (ipykernel)",
   "language": "python",
   "name": "python3"
  },
  "language_info": {
   "codemirror_mode": {
    "name": "ipython",
    "version": 3
   },
   "file_extension": ".py",
   "mimetype": "text/x-python",
   "name": "python",
   "nbconvert_exporter": "python",
   "pygments_lexer": "ipython3",
   "version": "3.9.7"
  }
 },
 "nbformat": 4,
 "nbformat_minor": 5
}
