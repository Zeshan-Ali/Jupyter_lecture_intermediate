{
 "cells": [
  {
   "cell_type": "code",
   "execution_count": 1,
   "id": "e5cf33a5",
   "metadata": {},
   "outputs": [],
   "source": [
    "# welcome to function session\n"
   ]
  },
  {
   "cell_type": "code",
   "execution_count": 10,
   "id": "6e58daa2",
   "metadata": {},
   "outputs": [],
   "source": [
    "def dex_fun():  # decalratio of function\n",
    "    print(\"Welcome to D explorex\")   # body"
   ]
  },
  {
   "cell_type": "code",
   "execution_count": null,
   "id": "c1208763",
   "metadata": {},
   "outputs": [],
   "source": []
  },
  {
   "cell_type": "code",
   "execution_count": 14,
   "id": "829b246b",
   "metadata": {},
   "outputs": [
    {
     "name": "stdout",
     "output_type": "stream",
     "text": [
      "Welcome to D explorex\n",
      "Welcome to D explorex\n",
      "Welcome to D explorex\n",
      "Welcome to D explorex\n",
      "Welcome to D explorex\n",
      "Welcome to D explorex\n",
      "Welcome to D explorex\n",
      "Welcome to D explorex\n",
      "Welcome to D explorex\n",
      "Welcome to D explorex\n"
     ]
    }
   ],
   "source": [
    "for i in range(10):\n",
    "  dex_fun()"
   ]
  },
  {
   "cell_type": "code",
   "execution_count": 44,
   "id": "e96292c8",
   "metadata": {},
   "outputs": [],
   "source": [
    "def mul(n1,n2):\n",
    "    res = n1*n2\n",
    "    return res"
   ]
  },
  {
   "cell_type": "code",
   "execution_count": 45,
   "id": "1bad9f2b",
   "metadata": {},
   "outputs": [
    {
     "name": "stdout",
     "output_type": "stream",
     "text": [
      "6\n"
     ]
    }
   ],
   "source": [
    "print(mul(2,3))"
   ]
  },
  {
   "cell_type": "code",
   "execution_count": 17,
   "id": "4dbd0602",
   "metadata": {},
   "outputs": [
    {
     "name": "stdout",
     "output_type": "stream",
     "text": [
      "the mul of number is 28\n"
     ]
    }
   ],
   "source": [
    "mul(4,7)"
   ]
  },
  {
   "cell_type": "code",
   "execution_count": 18,
   "id": "06d7f07c",
   "metadata": {},
   "outputs": [
    {
     "name": "stdout",
     "output_type": "stream",
     "text": [
      "the mul of number is 7644\n"
     ]
    }
   ],
   "source": [
    "mul(78,98)"
   ]
  },
  {
   "cell_type": "code",
   "execution_count": 20,
   "id": "1c24b4a6",
   "metadata": {},
   "outputs": [
    {
     "name": "stdout",
     "output_type": "stream",
     "text": [
      "the mul of number is 2795\n"
     ]
    }
   ],
   "source": [
    "mul(65,43)"
   ]
  },
  {
   "cell_type": "code",
   "execution_count": 21,
   "id": "b0514dc1",
   "metadata": {},
   "outputs": [],
   "source": [
    "def greet (msg):\n",
    "    print(msg)"
   ]
  },
  {
   "cell_type": "code",
   "execution_count": 22,
   "id": "1f452c9e",
   "metadata": {},
   "outputs": [
    {
     "name": "stdout",
     "output_type": "stream",
     "text": [
      "Hello bacho\n"
     ]
    }
   ],
   "source": [
    "greet(\"Hello bacho\")"
   ]
  },
  {
   "cell_type": "code",
   "execution_count": 24,
   "id": "e3d14702",
   "metadata": {},
   "outputs": [
    {
     "name": "stdout",
     "output_type": "stream",
     "text": [
      "bonjour\n"
     ]
    }
   ],
   "source": [
    "greet(\"bonjour\")"
   ]
  },
  {
   "cell_type": "code",
   "execution_count": 30,
   "id": "d631eb61",
   "metadata": {},
   "outputs": [],
   "source": [
    "def threat(msg):\n",
    "    print(\"oye baz aja \"+ msg)\n",
    "    print(msg)"
   ]
  },
  {
   "cell_type": "code",
   "execution_count": 31,
   "id": "12f3fee7",
   "metadata": {},
   "outputs": [
    {
     "name": "stdout",
     "output_type": "stream",
     "text": [
      "oye baz aja wrna mar jao gy\n",
      "wrna mar jao gy\n"
     ]
    }
   ],
   "source": [
    "threat(\"wrna mar jao gy\")"
   ]
  },
  {
   "cell_type": "code",
   "execution_count": 32,
   "id": "93107f00",
   "metadata": {},
   "outputs": [],
   "source": [
    "def sum(a,b):\n",
    "    c = a+b\n",
    "    return c"
   ]
  },
  {
   "cell_type": "code",
   "execution_count": 39,
   "id": "50ef313c",
   "metadata": {},
   "outputs": [
    {
     "data": {
      "text/plain": [
       "12"
      ]
     },
     "execution_count": 39,
     "metadata": {},
     "output_type": "execute_result"
    }
   ],
   "source": [
    "res_sum = sum(4,8)"
   ]
  },
  {
   "cell_type": "code",
   "execution_count": 34,
   "id": "245c4dc7",
   "metadata": {},
   "outputs": [
    {
     "name": "stdout",
     "output_type": "stream",
     "text": [
      "12\n"
     ]
    }
   ],
   "source": [
    "print(sum_res)"
   ]
  },
  {
   "cell_type": "code",
   "execution_count": null,
   "id": "5969e83e",
   "metadata": {},
   "outputs": [],
   "source": []
  }
 ],
 "metadata": {
  "kernelspec": {
   "display_name": "Python 3 (ipykernel)",
   "language": "python",
   "name": "python3"
  },
  "language_info": {
   "codemirror_mode": {
    "name": "ipython",
    "version": 3
   },
   "file_extension": ".py",
   "mimetype": "text/x-python",
   "name": "python",
   "nbconvert_exporter": "python",
   "pygments_lexer": "ipython3",
   "version": "3.9.7"
  }
 },
 "nbformat": 4,
 "nbformat_minor": 5
}
