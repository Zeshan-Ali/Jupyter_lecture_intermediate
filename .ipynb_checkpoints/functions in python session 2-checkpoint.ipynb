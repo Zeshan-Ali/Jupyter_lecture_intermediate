{
 "cells": [
  {
   "cell_type": "code",
   "execution_count": 10,
   "id": "cd91adac",
   "metadata": {},
   "outputs": [
    {
     "name": "stdout",
     "output_type": "stream",
     "text": [
      "please enter a number:7\n",
      "the number is odd\n"
     ]
    }
   ],
   "source": [
    "number = int(input(\"please enter a number:\"))\n",
    "if (number % 2 == 0):\n",
    "    print(\"the number is even\")\n",
    "else:\n",
    "    print(\"the number is odd\")\n"
   ]
  },
  {
   "cell_type": "code",
   "execution_count": 11,
   "id": "033f10e8",
   "metadata": {},
   "outputs": [],
   "source": [
    "def even_odd():\n",
    "    number = int(input(\"please enter a number:\"))\n",
    "    if (number % 2 == 0): \n",
    "        print(\"the number is even\")\n",
    "    else:\n",
    "        print(\"the number is odd\")"
   ]
  },
  {
   "cell_type": "code",
   "execution_count": 13,
   "id": "ec3b518f",
   "metadata": {},
   "outputs": [
    {
     "name": "stdout",
     "output_type": "stream",
     "text": [
      "please enter a number:7\n",
      "the number is odd\n"
     ]
    }
   ],
   "source": [
    "even_odd()"
   ]
  },
  {
   "cell_type": "code",
   "execution_count": 6,
   "id": "8502e3fe",
   "metadata": {},
   "outputs": [],
   "source": [
    "def input_num():\n",
    "    number = int(input(\"please enter a number:\"))\n",
    "    return number"
   ]
  },
  {
   "cell_type": "code",
   "execution_count": 7,
   "id": "a28f910e",
   "metadata": {},
   "outputs": [],
   "source": [
    "def chek_number(num):\n",
    "    if (num % 2 == 0): \n",
    "        print(\"the number is even\")\n",
    "    else:\n",
    "        print(\"the number is odd\")"
   ]
  },
  {
   "cell_type": "code",
   "execution_count": 14,
   "id": "c5cd32ad",
   "metadata": {},
   "outputs": [
    {
     "name": "stdout",
     "output_type": "stream",
     "text": [
      "please enter a number:8\n",
      "the number is even\n"
     ]
    }
   ],
   "source": [
    "number=input_num()\n",
    "chek_number(number)"
   ]
  },
  {
   "cell_type": "code",
   "execution_count": 15,
   "id": "9f1d85bf",
   "metadata": {},
   "outputs": [
    {
     "name": "stdout",
     "output_type": "stream",
     "text": [
      "enter a number:4\n",
      "ener a second number:5\n",
      "enter 1 for addition \n",
      " 2.for subtraction \n",
      " 3.for multiplication \n",
      " 4.for dividion:4\n",
      "the division of numbers is:  0.8\n"
     ]
    }
   ],
   "source": [
    "a = int(input(\"enter a number:\"))\n",
    "b = int(input(\"ener a second number:\"))\n",
    "\n",
    "choice = int(input(\"enter 1 for addition \\n 2.for subtraction \\n 3.for multiplication \\n 4.for dividion:\"))\n",
    "\n",
    "if (choice ==1):\n",
    "    res= a+b\n",
    "    print(\"the sum of number is:\",res)\n",
    "elif(choice ==2):\n",
    "    res = a-b\n",
    "    print(\"thesubtraction of numbers is: \",res)\n",
    "elif(choice ==3):\n",
    "    res = a*b\n",
    "    print(\"the multiplication of numbers is: \",res)\n",
    "elif(choice ==4):\n",
    "    res = a/b\n",
    "    print(\"the division of numbers is: \",res)\n",
    "else:\n",
    "    print(\"enter right choice\")"
   ]
  },
  {
   "cell_type": "code",
   "execution_count": null,
   "id": "35341b22",
   "metadata": {},
   "outputs": [],
   "source": [
    "def input_var():\n",
    "    a = int(input(\"enter a number:\"))\n",
    "    b = int(input(\"ener a second number:\"))\n",
    "    \n",
    "    return a,b\n",
    "\n",
    "def choice():\n",
    "    ch = int(input(\"enter 1 for addition \\n 2.for subtraction \\n 3.for multiplication \\n 4.for dividion \\n 5 for modulus:\\n\"))\n",
    "    return ch\n",
    "\n",
    "def calculation(a,b,choice):\n",
    "    if (choice ==1):\n",
    "        res= a+b\n",
    "        print(\"the sum of number is:\",res)\n",
    "    elif(choice ==2):\n",
    "        res = a-b\n",
    "        print(\"the subtraction of numbers is: \",res)\n",
    "    elif(choice ==3):\n",
    "        res = a*b\n",
    "        print(\"the multiplication of numbers is: \",res)\n",
    "    elif(choice ==4):\n",
    "        res = a/b\n",
    "        print(\"the division of numbers is: \",res)\n",
    "    elif(choice==5):\n",
    "        res =a%b\n",
    "        print(\"the modulus if number is:\",res)\n",
    "    else:\n",
    "        print(\"enter right choice\")"
   ]
  },
  {
   "cell_type": "code",
   "execution_count": null,
   "id": "38382af9",
   "metadata": {},
   "outputs": [],
   "source": [
    "ans = input(\"do you want to perform any other calcultaion? entr yes or no:\")\n",
    "while(ans != \"no\"):\n",
    "    a,b = input_var()\n",
    "    choice = choice()\n",
    "    calculation(a,b,choice)\n",
    "    ans = input(\"do you want to perform any other calcultaion? entr yes or no:\")"
   ]
  },
  {
   "cell_type": "code",
   "execution_count": null,
   "id": "ccb8a4d2",
   "metadata": {},
   "outputs": [],
   "source": []
  }
 ],
 "metadata": {
  "kernelspec": {
   "display_name": "Python 3 (ipykernel)",
   "language": "python",
   "name": "python3"
  },
  "language_info": {
   "codemirror_mode": {
    "name": "ipython",
    "version": 3
   },
   "file_extension": ".py",
   "mimetype": "text/x-python",
   "name": "python",
   "nbconvert_exporter": "python",
   "pygments_lexer": "ipython3",
   "version": "3.9.7"
  }
 },
 "nbformat": 4,
 "nbformat_minor": 5
}
