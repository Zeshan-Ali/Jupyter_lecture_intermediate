{
 "cells": [
  {
   "cell_type": "code",
   "execution_count": 8,
   "id": "47302237",
   "metadata": {},
   "outputs": [],
   "source": [
    "# file reading\n",
    " \n",
    "myfile = open(\"dexplorex.txt\",\"w\")"
   ]
  },
  {
   "cell_type": "code",
   "execution_count": 9,
   "id": "026e7c46",
   "metadata": {},
   "outputs": [],
   "source": [
    "myfile.write(\"Hello i am writing from python \\n\")\n",
    "myfile.write(\"hello there ! \")\n",
    "myfile.write(\"\\nthird line\")\n",
    "myfile.close()"
   ]
  },
  {
   "cell_type": "code",
   "execution_count": 11,
   "id": "ae025ede",
   "metadata": {},
   "outputs": [
    {
     "name": "stdout",
     "output_type": "stream",
     "text": [
      "enter any text to rite in a file: zeeshan , ali\n"
     ]
    }
   ],
   "source": [
    "text= input(\"enter any text to rite in a file: \")\n",
    "user_file= open(\"user.txt\",\"w\")\n",
    "user_file.write(text)\n",
    "user_file.close()"
   ]
  },
  {
   "cell_type": "code",
   "execution_count": 15,
   "id": "3ff5779e",
   "metadata": {},
   "outputs": [
    {
     "name": "stdout",
     "output_type": "stream",
     "text": [
      "enter any text to rite in a file: roll no, name,class,subject,grade,address,cgpa,contact\n"
     ]
    }
   ],
   "source": [
    "text= input(\"enter any text to rite in a file: \")\n",
    "teach_file = open(\"tech.csv\",\"w\")''\n",
    "teach_file.write(text)\n",
    "teach_file.close()"
   ]
  },
  {
   "cell_type": "code",
   "execution_count": 17,
   "id": "e0d4708d",
   "metadata": {},
   "outputs": [
    {
     "name": "stdout",
     "output_type": "stream",
     "text": [
      "Hello i am writing from python \n",
      "hello there ! \n",
      "third line\n"
     ]
    }
   ],
   "source": [
    "other = open(\"dexplorex.txt\",\"r\")\n",
    "a = other.read()\n",
    "print(a)"
   ]
  },
  {
   "cell_type": "code",
   "execution_count": null,
   "id": "36ba8a0c",
   "metadata": {},
   "outputs": [],
   "source": []
  }
 ],
 "metadata": {
  "kernelspec": {
   "display_name": "Python 3 (ipykernel)",
   "language": "python",
   "name": "python3"
  },
  "language_info": {
   "codemirror_mode": {
    "name": "ipython",
    "version": 3
   },
   "file_extension": ".py",
   "mimetype": "text/x-python",
   "name": "python",
   "nbconvert_exporter": "python",
   "pygments_lexer": "ipython3",
   "version": "3.9.7"
  }
 },
 "nbformat": 4,
 "nbformat_minor": 5
}
