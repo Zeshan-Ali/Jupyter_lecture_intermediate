{
 "cells": [
  {
   "cell_type": "code",
   "execution_count": 36,
   "id": "17eb3817",
   "metadata": {},
   "outputs": [],
   "source": [
    "# welcome to list final sesson "
   ]
  },
  {
   "cell_type": "code",
   "execution_count": 37,
   "id": "efedaedc",
   "metadata": {},
   "outputs": [],
   "source": [
    "names = ['Christopher','Susan','Bill','Satya']"
   ]
  },
  {
   "cell_type": "code",
   "execution_count": 38,
   "id": "416647bd",
   "metadata": {},
   "outputs": [],
   "source": [
    "names.sort()"
   ]
  },
  {
   "cell_type": "code",
   "execution_count": 39,
   "id": "2fdecc21",
   "metadata": {},
   "outputs": [
    {
     "data": {
      "text/plain": [
       "['Bill', 'Christopher', 'Satya', 'Susan']"
      ]
     },
     "execution_count": 39,
     "metadata": {},
     "output_type": "execute_result"
    }
   ],
   "source": [
    "names\n"
   ]
  },
  {
   "cell_type": "code",
   "execution_count": 40,
   "id": "366c8835",
   "metadata": {},
   "outputs": [
    {
     "data": {
      "text/plain": [
       "[45, 34, 23]"
      ]
     },
     "execution_count": 40,
     "metadata": {},
     "output_type": "execute_result"
    }
   ],
   "source": [
    "ages = [45,34,23]\n",
    "ages"
   ]
  },
  {
   "cell_type": "code",
   "execution_count": 41,
   "id": "88aa2db4",
   "metadata": {},
   "outputs": [
    {
     "data": {
      "text/plain": [
       "[23, 34, 45]"
      ]
     },
     "execution_count": 41,
     "metadata": {},
     "output_type": "execute_result"
    }
   ],
   "source": [
    "ages.sort()\n",
    "ages"
   ]
  },
  {
   "cell_type": "code",
   "execution_count": 42,
   "id": "b0fc0aaf",
   "metadata": {},
   "outputs": [
    {
     "name": "stdout",
     "output_type": "stream",
     "text": [
      "Please enter a name of guestm if no any guest left then enter DONE:\n",
      "Please enter a name of guestm if no any guest left then enter DONE:done\n",
      "Please enter a name of guestm if no any guest left then enter DONE:DONE\n",
      "['', 'DONE', 'done']\n"
     ]
    }
   ],
   "source": [
    "# task\n",
    "guest = [] # list to store names \n",
    "name=\"\"  \n",
    "\n",
    "while name != \"DONE\":\n",
    "    name = input(\"Please enter a name of guestm if no any guest left then enter DONE:\")\n",
    "    guest.append(name)\n",
    "\n",
    "guest.sort()\n",
    "\n",
    "print(guest)"
   ]
  },
  {
   "cell_type": "code",
   "execution_count": 43,
   "id": "acd06362",
   "metadata": {},
   "outputs": [
    {
     "name": "stdout",
     "output_type": "stream",
     "text": [
      "Please enter a name of guestm if no any guest left then enter DONE:ahmad\n",
      "Please enter a name of guestm if no any guest left then enter DONE:ali\n",
      "Please enter a name of guestm if no any guest left then enter DONE:akbar\n",
      "Please enter a name of guestm if no any guest left then enter DONE:zaheer\n",
      "Please enter a name of guestm if no any guest left then enter DONE:done\n",
      "['ahmad', 'akbar', 'ali', 'zaheer']\n"
     ]
    }
   ],
   "source": [
    "# task\n",
    "guest = [] # list to store names \n",
    "name=\"\"  \n",
    "\n",
    "while name != \"DONE\" and name != \"done\":\n",
    "    name = input(\"Please enter a name of guestm if no any guest left then enter DONE:\")\n",
    "    if (name.upper() != \"DONE\" or name.lower() != \"done\"):\n",
    "        guest.append(name)\n",
    "\n",
    "guest.sort()\n",
    "\n",
    "print(guest)"
   ]
  },
  {
   "cell_type": "code",
   "execution_count": 35,
   "id": "1e310b5f",
   "metadata": {},
   "outputs": [
    {
     "ename": "AttributeError",
     "evalue": "'list' object has no attribute 'upper'",
     "output_type": "error",
     "traceback": [
      "\u001b[1;31m---------------------------------------------------------------------------\u001b[0m",
      "\u001b[1;31mAttributeError\u001b[0m                            Traceback (most recent call last)",
      "\u001b[1;32m~\\AppData\\Local\\Temp\\ipykernel_6056\\2967632728.py\u001b[0m in \u001b[0;36m<cell line: 1>\u001b[1;34m()\u001b[0m\n\u001b[1;32m----> 1\u001b[1;33m \u001b[0mguest\u001b[0m\u001b[1;33m.\u001b[0m\u001b[0mupper\u001b[0m\u001b[1;33m\u001b[0m\u001b[1;33m\u001b[0m\u001b[0m\n\u001b[0m",
      "\u001b[1;31mAttributeError\u001b[0m: 'list' object has no attribute 'upper'"
     ]
    }
   ],
   "source": [
    "guest.upper"
   ]
  },
  {
   "cell_type": "code",
   "execution_count": 44,
   "id": "e9c776ad",
   "metadata": {},
   "outputs": [],
   "source": [
    "marks = [34,67,98,109,43,21]"
   ]
  },
  {
   "cell_type": "code",
   "execution_count": 45,
   "id": "bd401034",
   "metadata": {},
   "outputs": [],
   "source": [
    "marks.sort()"
   ]
  },
  {
   "cell_type": "code",
   "execution_count": 46,
   "id": "b157539a",
   "metadata": {},
   "outputs": [
    {
     "data": {
      "text/plain": [
       "[21, 34, 43, 67, 98, 109]"
      ]
     },
     "execution_count": 46,
     "metadata": {},
     "output_type": "execute_result"
    }
   ],
   "source": [
    "marks"
   ]
  },
  {
   "cell_type": "code",
   "execution_count": null,
   "id": "928a1bbb",
   "metadata": {},
   "outputs": [],
   "source": []
  }
 ],
 "metadata": {
  "kernelspec": {
   "display_name": "Python 3 (ipykernel)",
   "language": "python",
   "name": "python3"
  },
  "language_info": {
   "codemirror_mode": {
    "name": "ipython",
    "version": 3
   },
   "file_extension": ".py",
   "mimetype": "text/x-python",
   "name": "python",
   "nbconvert_exporter": "python",
   "pygments_lexer": "ipython3",
   "version": "3.9.7"
  }
 },
 "nbformat": 4,
 "nbformat_minor": 5
}
