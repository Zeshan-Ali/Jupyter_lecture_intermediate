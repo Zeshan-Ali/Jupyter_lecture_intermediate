{
 "cells": [
  {
   "cell_type": "code",
   "execution_count": 10,
   "id": "c202a0fc",
   "metadata": {},
   "outputs": [
    {
     "name": "stdout",
     "output_type": "stream",
     "text": [
      "please enter a number:7\n",
      "the number is odd\n"
     ]
    }
   ],
   "source": [
    "number = int(input(\"please enter a number:\"))\n",
    "if (number % 2 == 0):\n",
    "    print(\"the number is even\")\n",
    "else:\n",
    "    print(\"the number is odd\")\n"
   ]
  },
  {
   "cell_type": "code",
   "execution_count": 11,
   "id": "abd155ff",
   "metadata": {},
   "outputs": [],
   "source": [
    "def even_odd():\n",
    "    number = int(input(\"please enter a number:\"))\n",
    "    if (number % 2 == 0): \n",
    "        print(\"the number is even\")\n",
    "    else:\n",
    "        print(\"the number is odd\")"
   ]
  },
  {
   "cell_type": "code",
   "execution_count": 13,
   "id": "aa0d1670",
   "metadata": {},
   "outputs": [
    {
     "name": "stdout",
     "output_type": "stream",
     "text": [
      "please enter a number:7\n",
      "the number is odd\n"
     ]
    }
   ],
   "source": [
    "even_odd()"
   ]
  },
  {
   "cell_type": "code",
   "execution_count": 6,
   "id": "08092069",
   "metadata": {},
   "outputs": [],
   "source": [
    "def input_num():\n",
    "    number = int(input(\"please enter a number:\"))\n",
    "    return number"
   ]
  },
  {
   "cell_type": "code",
   "execution_count": 7,
   "id": "5b4c6005",
   "metadata": {},
   "outputs": [],
   "source": [
    "def chek_number(num):\n",
    "    if (num % 2 == 0): \n",
    "        print(\"the number is even\")\n",
    "    else:\n",
    "        print(\"the number is odd\")"
   ]
  },
  {
   "cell_type": "code",
   "execution_count": 14,
   "id": "4c70055d",
   "metadata": {},
   "outputs": [
    {
     "name": "stdout",
     "output_type": "stream",
     "text": [
      "please enter a number:8\n",
      "the number is even\n"
     ]
    }
   ],
   "source": [
    "number=input_num()\n",
    "chek_number(number)"
   ]
  },
  {
   "cell_type": "code",
   "execution_count": 15,
   "id": "bab61fee",
   "metadata": {},
   "outputs": [
    {
     "name": "stdout",
     "output_type": "stream",
     "text": [
      "enter a number:4\n",
      "ener a second number:5\n",
      "enter 1 for addition \n",
      " 2.for subtraction \n",
      " 3.for multiplication \n",
      " 4.for dividion:4\n",
      "the division of numbers is:  0.8\n"
     ]
    }
   ],
   "source": [
    "a = int(input(\"enter a number:\"))\n",
    "b = int(input(\"ener a second number:\"))\n",
    "\n",
    "choice = int(input(\"enter 1 for addition \\n 2.for subtraction \\n 3.for multiplication \\n 4.for dividion:\"))\n",
    "\n",
    "if (choice ==1):\n",
    "    res= a+b\n",
    "    print(\"the sum of number is:\",res)\n",
    "elif(choice ==2):\n",
    "    res = a-b\n",
    "    print(\"thesubtraction of numbers is: \",res)\n",
    "elif(choice ==3):\n",
    "    res = a*b\n",
    "    print(\"the multiplication of numbers is: \",res)\n",
    "elif(choice ==4):\n",
    "    res = a/b\n",
    "    print(\"the division of numbers is: \",res)\n",
    "else:\n",
    "    print(\"enter right choice\")"
   ]
  },
  {
   "cell_type": "code",
   "execution_count": 2,
   "id": "f0415fbc",
   "metadata": {},
   "outputs": [
    {
     "ename": "SyntaxError",
     "evalue": "invalid syntax (2943449090.py, line 4)",
     "output_type": "error",
     "traceback": [
      "\u001b[1;36m  File \u001b[1;32m\"C:\\Users\\Zeeshan\\AppData\\Local\\Temp\\ipykernel_11460\\2943449090.py\"\u001b[1;36m, line \u001b[1;32m4\u001b[0m\n\u001b[1;33m    return a,b\u001b[0m\n\u001b[1;37m    ^\u001b[0m\n\u001b[1;31mSyntaxError\u001b[0m\u001b[1;31m:\u001b[0m invalid syntax\n"
     ]
    }
   ],
   "source": []
  },
  {
   "cell_type": "code",
   "execution_count": 9,
   "id": "765c3893",
   "metadata": {},
   "outputs": [],
   "source": [
    "def input_var():\n",
    "    a = int(input(\"enter a number:\"))\n",
    "    b = int(input(\"ener a second number:\"))\n",
    "    return a,b\n",
    "\n",
    "def choice():\n",
    "    ch = int(input(\"enter 1 for addition \\n 2.for subtraction \\n 3.for multiplication \\n 4.for dividion \\n 5 for modulus:\\n\"))\n",
    "    return ch\n",
    "\n",
    "def add(a,b):\n",
    "    res= a+b\n",
    "    print(\"the sum of number is:\",res)\n",
    "def sub(a,b):\n",
    "    res = a-b\n",
    "    print(\"the subtraction of numbers is: \",res)\n",
    "    \n",
    "def mul(a,b):\n",
    "    res = a*b\n",
    "    print(\"the multiplication of numbers is: \",res)\n",
    "def div(a,b):\n",
    "    res = a/b\n",
    "    print(\"the division of numbers is: \",res)\n",
    "    \n",
    "def modu(a,b):\n",
    "    res =a%b\n",
    "    print(\"the modulus if number is:\",res)\n",
    "    \n",
    "def calculation(a,b,choice):\n",
    "    if (choice ==1):\n",
    "        add(a,b)\n",
    "    elif(choice ==2):\n",
    "        sub(a,b)\n",
    "    elif(choice ==3):\n",
    "        mul(a,b)\n",
    "    elif(choice ==4):\n",
    "        div(a,b)\n",
    "    elif(choice==5):\n",
    "        modu(a,b)\n",
    "    else:\n",
    "        print(\"enter right choice\")"
   ]
  },
  {
   "cell_type": "code",
   "execution_count": 10,
   "id": "79f2c454",
   "metadata": {},
   "outputs": [
    {
     "name": "stdout",
     "output_type": "stream",
     "text": [
      "do you want to perform any other calcultaion? entr yes or no:yes\n",
      "enter a number:8\n",
      "ener a second number:7\n",
      "enter 1 for addition \n",
      " 2.for subtraction \n",
      " 3.for multiplication \n",
      " 4.for dividion \n",
      " 5 for modulus:\n",
      "5\n",
      "the modulus if number is: 1\n",
      "do you want to perform any other calcultaion? entr yes or no:yes\n",
      "enter a number:1\n",
      "ener a second number:2\n"
     ]
    },
    {
     "ename": "TypeError",
     "evalue": "'int' object is not callable",
     "output_type": "error",
     "traceback": [
      "\u001b[1;31m---------------------------------------------------------------------------\u001b[0m",
      "\u001b[1;31mTypeError\u001b[0m                                 Traceback (most recent call last)",
      "\u001b[1;32m~\\AppData\\Local\\Temp\\ipykernel_11460\\1227428106.py\u001b[0m in \u001b[0;36m<cell line: 2>\u001b[1;34m()\u001b[0m\n\u001b[0;32m      2\u001b[0m \u001b[1;32mwhile\u001b[0m\u001b[1;33m(\u001b[0m\u001b[0mans\u001b[0m \u001b[1;33m!=\u001b[0m \u001b[1;34m\"no\"\u001b[0m\u001b[1;33m)\u001b[0m\u001b[1;33m:\u001b[0m\u001b[1;33m\u001b[0m\u001b[1;33m\u001b[0m\u001b[0m\n\u001b[0;32m      3\u001b[0m     \u001b[0ma\u001b[0m\u001b[1;33m,\u001b[0m\u001b[0mb\u001b[0m \u001b[1;33m=\u001b[0m \u001b[0minput_var\u001b[0m\u001b[1;33m(\u001b[0m\u001b[1;33m)\u001b[0m\u001b[1;33m\u001b[0m\u001b[1;33m\u001b[0m\u001b[0m\n\u001b[1;32m----> 4\u001b[1;33m     \u001b[0mchoice\u001b[0m \u001b[1;33m=\u001b[0m \u001b[0mchoice\u001b[0m\u001b[1;33m(\u001b[0m\u001b[1;33m)\u001b[0m\u001b[1;33m\u001b[0m\u001b[1;33m\u001b[0m\u001b[0m\n\u001b[0m\u001b[0;32m      5\u001b[0m     \u001b[0mcalculation\u001b[0m\u001b[1;33m(\u001b[0m\u001b[0ma\u001b[0m\u001b[1;33m,\u001b[0m\u001b[0mb\u001b[0m\u001b[1;33m,\u001b[0m\u001b[0mchoice\u001b[0m\u001b[1;33m)\u001b[0m\u001b[1;33m\u001b[0m\u001b[1;33m\u001b[0m\u001b[0m\n\u001b[0;32m      6\u001b[0m     \u001b[0mans\u001b[0m \u001b[1;33m=\u001b[0m \u001b[0minput\u001b[0m\u001b[1;33m(\u001b[0m\u001b[1;34m\"do you want to perform any other calcultaion? entr yes or no:\"\u001b[0m\u001b[1;33m)\u001b[0m\u001b[1;33m\u001b[0m\u001b[1;33m\u001b[0m\u001b[0m\n",
      "\u001b[1;31mTypeError\u001b[0m: 'int' object is not callable"
     ]
    }
   ],
   "source": [
    "ans = input(\"do you want to perform any other calcultaion? entr yes or no:\")\n",
    "while(ans != \"no\"):\n",
    "    a,b = input_var()\n",
    "    choice = choice()\n",
    "    calculation(a,b,choice)\n",
    "    ans = input(\"do you want to perform any other calcultaion? entr yes or no:\")"
   ]
  },
  {
   "cell_type": "code",
   "execution_count": 5,
   "id": "baebc9f2",
   "metadata": {},
   "outputs": [
    {
     "name": "stdout",
     "output_type": "stream",
     "text": [
      "the sum of number is: 11\n"
     ]
    }
   ],
   "source": [
    "add(5,6)"
   ]
  },
  {
   "cell_type": "code",
   "execution_count": 6,
   "id": "3fd9893e",
   "metadata": {},
   "outputs": [
    {
     "name": "stdout",
     "output_type": "stream",
     "text": [
      "the multiplication of numbers is:  56\n"
     ]
    }
   ],
   "source": [
    "mul(7,8)"
   ]
  },
  {
   "cell_type": "code",
   "execution_count": null,
   "id": "a3a8d16c",
   "metadata": {},
   "outputs": [],
   "source": []
  }
 ],
 "metadata": {
  "kernelspec": {
   "display_name": "Python 3 (ipykernel)",
   "language": "python",
   "name": "python3"
  },
  "language_info": {
   "codemirror_mode": {
    "name": "ipython",
    "version": 3
   },
   "file_extension": ".py",
   "mimetype": "text/x-python",
   "name": "python",
   "nbconvert_exporter": "python",
   "pygments_lexer": "ipython3",
   "version": "3.9.7"
  }
 },
 "nbformat": 4,
 "nbformat_minor": 5
}
