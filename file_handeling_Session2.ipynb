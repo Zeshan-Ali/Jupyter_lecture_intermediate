{
 "cells": [
  {
   "cell_type": "code",
   "execution_count": 2,
   "id": "a749de8f",
   "metadata": {},
   "outputs": [],
   "source": [
    "f = open(\"files/names.txt\",\"w\")\n",
    "f.write(\"hello bacho\")\n",
    "f.close()"
   ]
  },
  {
   "cell_type": "code",
   "execution_count": 3,
   "id": "08e03f0f",
   "metadata": {},
   "outputs": [],
   "source": [
    "d_f = open(\"D:/files/fruits.txt\",\"w\")\n",
    "d_f.write(\"files in D ndrive\")\n",
    "d_f.close()"
   ]
  },
  {
   "cell_type": "code",
   "execution_count": 7,
   "id": "1afc4483",
   "metadata": {},
   "outputs": [
    {
     "name": "stdout",
     "output_type": "stream",
     "text": [
      "enter your name:ahmad\n",
      "enter your name:ali\n",
      "enter your name:usman\n",
      "enter your name:amjad\n",
      "enter your name:gohar\n"
     ]
    }
   ],
   "source": [
    "ff = open(\"files/names.txt\",\"a\")\n",
    "for i in range(5):\n",
    "    n=input(\"enter your name:\")\n",
    "    ff.write(n)\n",
    "ff.close()"
   ]
  },
  {
   "cell_type": "code",
   "execution_count": 9,
   "id": "2df09d44",
   "metadata": {},
   "outputs": [
    {
     "name": "stdout",
     "output_type": "stream",
     "text": [
      "hello bachoaliahmadusmanusamaamjadahmadaliusmanamjadgohar\n"
     ]
    }
   ],
   "source": [
    "ff = open(\"files/names.txt\",\"r\")\n",
    "txt=ff.read()\n",
    "print(txt)\n",
    "ff.close()"
   ]
  },
  {
   "cell_type": "code",
   "execution_count": 10,
   "id": "1d7955c2",
   "metadata": {},
   "outputs": [],
   "source": [
    "with open(\"files/veg.txt\",\"w\") as fwork:\n",
    "    fwork.write(\"tmatar\")\n",
    "    fwork.write(\"\\n aalu\")\n"
   ]
  },
  {
   "cell_type": "code",
   "execution_count": 11,
   "id": "7316f4b5",
   "metadata": {},
   "outputs": [
    {
     "name": "stdout",
     "output_type": "stream",
     "text": [
      "tmatar\n",
      " aalu\n"
     ]
    }
   ],
   "source": [
    "with open(\"files/veg.txt\",\"r\") as fwork:\n",
    "    print(fwork.read())"
   ]
  },
  {
   "cell_type": "code",
   "execution_count": 34,
   "id": "47d5ca02",
   "metadata": {},
   "outputs": [],
   "source": [
    "with open(\"files/veg.txt\",\"a\") as fwork:\n",
    "    fwork.write(\"gobhi\")"
   ]
  },
  {
   "cell_type": "code",
   "execution_count": 35,
   "id": "747c93e9",
   "metadata": {},
   "outputs": [],
   "source": [
    "veg = [\"matar\\n\",\"piaz\\n\",\"kaddu\\n\",\"bengan\\n\"]"
   ]
  },
  {
   "cell_type": "code",
   "execution_count": 36,
   "id": "0f984774",
   "metadata": {},
   "outputs": [],
   "source": [
    "with open(\"files/veg.txt\",\"a\") as fwork:\n",
    "    for v in veg:\n",
    "        fwork.write(v)\n",
    "    "
   ]
  },
  {
   "cell_type": "code",
   "execution_count": 38,
   "id": "08ca1266",
   "metadata": {},
   "outputs": [],
   "source": [
    "with open(\"files/veg.txt\",\"r\") as fwork:\n",
    "    fwork.readlines()"
   ]
  },
  {
   "cell_type": "code",
   "execution_count": 32,
   "id": "d0b495ae",
   "metadata": {},
   "outputs": [],
   "source": [
    "with open(\"files/veg.txt\",\"a\") as fwork:\n",
    "    i=0\n",
    "    while(i< len(veg)):\n",
    "        fwork.write(veg[i])\n",
    "        i=i+1\n",
    "    "
   ]
  },
  {
   "cell_type": "code",
   "execution_count": null,
   "id": "4990ffe9",
   "metadata": {},
   "outputs": [],
   "source": []
  }
 ],
 "metadata": {
  "kernelspec": {
   "display_name": "Python 3 (ipykernel)",
   "language": "python",
   "name": "python3"
  },
  "language_info": {
   "codemirror_mode": {
    "name": "ipython",
    "version": 3
   },
   "file_extension": ".py",
   "mimetype": "text/x-python",
   "name": "python",
   "nbconvert_exporter": "python",
   "pygments_lexer": "ipython3",
   "version": "3.9.7"
  }
 },
 "nbformat": 4,
 "nbformat_minor": 5
}
