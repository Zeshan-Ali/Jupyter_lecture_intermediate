{
 "cells": [
  {
   "cell_type": "code",
   "execution_count": 1,
   "id": "5b8baedf",
   "metadata": {},
   "outputs": [],
   "source": [
    "list1 = [1,2,3,4]"
   ]
  },
  {
   "cell_type": "code",
   "execution_count": 13,
   "id": "b239c234",
   "metadata": {},
   "outputs": [
    {
     "data": {
      "text/plain": [
       "4"
      ]
     },
     "execution_count": 13,
     "metadata": {},
     "output_type": "execute_result"
    }
   ],
   "source": [
    "len(list1)"
   ]
  },
  {
   "cell_type": "code",
   "execution_count": 4,
   "id": "135c93df",
   "metadata": {},
   "outputs": [],
   "source": [
    "student1 = {\"name\":\"Zesshan\", \"CNIC\":33102029939390 , \"Class\":\"BS\"}"
   ]
  },
  {
   "cell_type": "code",
   "execution_count": 7,
   "id": "2ac48788",
   "metadata": {},
   "outputs": [
    {
     "ename": "KeyError",
     "evalue": "'Zesshan'",
     "output_type": "error",
     "traceback": [
      "\u001b[1;31m---------------------------------------------------------------------------\u001b[0m",
      "\u001b[1;31mKeyError\u001b[0m                                  Traceback (most recent call last)",
      "\u001b[1;32m~\\AppData\\Local\\Temp\\ipykernel_11192\\1798480188.py\u001b[0m in \u001b[0;36m<cell line: 1>\u001b[1;34m()\u001b[0m\n\u001b[1;32m----> 1\u001b[1;33m \u001b[0mstudent1\u001b[0m\u001b[1;33m[\u001b[0m\u001b[1;34m\"Zesshan\"\u001b[0m\u001b[1;33m]\u001b[0m\u001b[1;33m\u001b[0m\u001b[1;33m\u001b[0m\u001b[0m\n\u001b[0m",
      "\u001b[1;31mKeyError\u001b[0m: 'Zesshan'"
     ]
    }
   ],
   "source": [
    "student1[\"Zesshan\"]"
   ]
  },
  {
   "cell_type": "code",
   "execution_count": 8,
   "id": "bbd33dc2",
   "metadata": {},
   "outputs": [],
   "source": [
    "veg = {1:\"gibhi\", 2:\"alu\", 3:\"piaz\"}"
   ]
  },
  {
   "cell_type": "code",
   "execution_count": 38,
   "id": "75f32fbe",
   "metadata": {},
   "outputs": [
    {
     "data": {
      "text/plain": [
       "'gibhi'"
      ]
     },
     "execution_count": 38,
     "metadata": {},
     "output_type": "execute_result"
    }
   ],
   "source": [
    "veg[1]"
   ]
  },
  {
   "cell_type": "code",
   "execution_count": 15,
   "id": "9b6f79f7",
   "metadata": {},
   "outputs": [
    {
     "data": {
      "text/plain": [
       "dict"
      ]
     },
     "execution_count": 15,
     "metadata": {},
     "output_type": "execute_result"
    }
   ],
   "source": [
    "type(veg)"
   ]
  },
  {
   "cell_type": "code",
   "execution_count": 16,
   "id": "28d1fd84",
   "metadata": {},
   "outputs": [],
   "source": [
    "a = dict()"
   ]
  },
  {
   "cell_type": "code",
   "execution_count": 17,
   "id": "44b47d1f",
   "metadata": {},
   "outputs": [
    {
     "data": {
      "text/plain": [
       "{}"
      ]
     },
     "execution_count": 17,
     "metadata": {},
     "output_type": "execute_result"
    }
   ],
   "source": [
    "a"
   ]
  },
  {
   "cell_type": "code",
   "execution_count": 18,
   "id": "3d461d04",
   "metadata": {},
   "outputs": [],
   "source": [
    "b ={}"
   ]
  },
  {
   "cell_type": "code",
   "execution_count": 19,
   "id": "449bd21d",
   "metadata": {},
   "outputs": [
    {
     "data": {
      "text/plain": [
       "{}"
      ]
     },
     "execution_count": 19,
     "metadata": {},
     "output_type": "execute_result"
    }
   ],
   "source": [
    "b"
   ]
  },
  {
   "cell_type": "code",
   "execution_count": 21,
   "id": "d75b8810",
   "metadata": {},
   "outputs": [],
   "source": [
    "e= []"
   ]
  },
  {
   "cell_type": "code",
   "execution_count": 23,
   "id": "c14bd411",
   "metadata": {},
   "outputs": [
    {
     "data": {
      "text/plain": [
       "dict"
      ]
     },
     "execution_count": 23,
     "metadata": {},
     "output_type": "execute_result"
    }
   ],
   "source": [
    "type(b)"
   ]
  },
  {
   "cell_type": "code",
   "execution_count": 24,
   "id": "a1d6b164",
   "metadata": {},
   "outputs": [],
   "source": [
    "s = list()"
   ]
  },
  {
   "cell_type": "code",
   "execution_count": 25,
   "id": "1178400c",
   "metadata": {},
   "outputs": [
    {
     "data": {
      "text/plain": [
       "[]"
      ]
     },
     "execution_count": 25,
     "metadata": {},
     "output_type": "execute_result"
    }
   ],
   "source": [
    "s"
   ]
  },
  {
   "cell_type": "code",
   "execution_count": 26,
   "id": "df23a47b",
   "metadata": {},
   "outputs": [],
   "source": []
  },
  {
   "cell_type": "code",
   "execution_count": 36,
   "id": "f205dd73",
   "metadata": {},
   "outputs": [
    {
     "name": "stdout",
     "output_type": "stream",
     "text": [
      "gibhi\n",
      "alu\n",
      "piaz\n"
     ]
    }
   ],
   "source": [
    "for v in veg:\n",
    "    print(veg[v])"
   ]
  },
  {
   "cell_type": "code",
   "execution_count": 33,
   "id": "02f6756d",
   "metadata": {},
   "outputs": [],
   "source": [
    "fruit = [\"mango\",\"apple\",\"banana\"]"
   ]
  },
  {
   "cell_type": "code",
   "execution_count": 49,
   "id": "fba3069f",
   "metadata": {},
   "outputs": [],
   "source": [
    "def creating_dict():\n",
    "    veg = {1:\"gibhi\", 2:\"alu\", 3:\"piaz\"}\n",
    "    for v in veg:\n",
    "        print(veg[v])"
   ]
  },
  {
   "cell_type": "code",
   "execution_count": 50,
   "id": "f864e92a",
   "metadata": {},
   "outputs": [
    {
     "name": "stdout",
     "output_type": "stream",
     "text": [
      "gibhi\n",
      "alu\n",
      "piaz\n"
     ]
    }
   ],
   "source": [
    "creating_dict()"
   ]
  },
  {
   "cell_type": "code",
   "execution_count": 51,
   "id": "1901eed9",
   "metadata": {},
   "outputs": [
    {
     "name": "stdout",
     "output_type": "stream",
     "text": [
      "gibhi\n",
      "alu\n",
      "piaz\n"
     ]
    }
   ],
   "source": [
    "for k in veg.values():\n",
    "    print(k)"
   ]
  },
  {
   "cell_type": "code",
   "execution_count": 52,
   "id": "28829558",
   "metadata": {},
   "outputs": [
    {
     "name": "stdout",
     "output_type": "stream",
     "text": [
      "1\n",
      "2\n",
      "3\n"
     ]
    }
   ],
   "source": [
    "for j in veg.keys():\n",
    "    print(j)"
   ]
  },
  {
   "cell_type": "code",
   "execution_count": 53,
   "id": "058e136a",
   "metadata": {},
   "outputs": [
    {
     "data": {
      "text/plain": [
       "dict_values(['gibhi', 'alu', 'piaz'])"
      ]
     },
     "execution_count": 53,
     "metadata": {},
     "output_type": "execute_result"
    }
   ],
   "source": [
    "veg.values() # the values in dict"
   ]
  },
  {
   "cell_type": "code",
   "execution_count": 55,
   "id": "4e1bd460",
   "metadata": {},
   "outputs": [
    {
     "data": {
      "text/plain": [
       "dict_keys"
      ]
     },
     "execution_count": 55,
     "metadata": {},
     "output_type": "execute_result"
    }
   ],
   "source": [
    "veg.keys()"
   ]
  },
  {
   "cell_type": "code",
   "execution_count": 56,
   "id": "9f2059ec",
   "metadata": {},
   "outputs": [
    {
     "data": {
      "text/plain": [
       "{1: 'gibhi', 2: 'alu', 3: 'piaz'}"
      ]
     },
     "execution_count": 56,
     "metadata": {},
     "output_type": "execute_result"
    }
   ],
   "source": [
    "veg"
   ]
  },
  {
   "cell_type": "code",
   "execution_count": 57,
   "id": "770a8488",
   "metadata": {},
   "outputs": [],
   "source": [
    "veg[4] = \"tmatar\"  #insering key value pair in already created dictionary"
   ]
  },
  {
   "cell_type": "code",
   "execution_count": 58,
   "id": "c657bd39",
   "metadata": {},
   "outputs": [
    {
     "data": {
      "text/plain": [
       "{1: 'gibhi', 2: 'alu', 3: 'piaz', 4: 'tmatar'}"
      ]
     },
     "execution_count": 58,
     "metadata": {},
     "output_type": "execute_result"
    }
   ],
   "source": [
    "veg"
   ]
  },
  {
   "cell_type": "code",
   "execution_count": 63,
   "id": "3f286014",
   "metadata": {},
   "outputs": [
    {
     "name": "stdout",
     "output_type": "stream",
     "text": [
      "please enetr value:green\n",
      "please enetr value:black\n",
      "please enetr value:yellow\n",
      "please enetr value:brwn\n"
     ]
    },
    {
     "data": {
      "text/plain": [
       "{1: 'green', 2: 'black', 3: 'yellow', 4: 'brwn'}"
      ]
     },
     "execution_count": 63,
     "metadata": {},
     "output_type": "execute_result"
    }
   ],
   "source": [
    "colour = dict()\n",
    "for i in range(1,6):\n",
    "    v = input(\"please enetr value:\")\n",
    "    colour[i]=v # this line add an element in dict\n",
    "colour"
   ]
  },
  {
   "cell_type": "code",
   "execution_count": 64,
   "id": "c999c832",
   "metadata": {},
   "outputs": [
    {
     "data": {
      "text/plain": [
       "{1: 'green', 2: 'black', 3: 'yellow', 4: 'brwn'}"
      ]
     },
     "execution_count": 64,
     "metadata": {},
     "output_type": "execute_result"
    }
   ],
   "source": [
    "colour"
   ]
  },
  {
   "cell_type": "code",
   "execution_count": 65,
   "id": "d7958fbf",
   "metadata": {},
   "outputs": [],
   "source": [
    "colour.clear() # clears all elemenets from dict"
   ]
  },
  {
   "cell_type": "code",
   "execution_count": 67,
   "id": "88b8aedd",
   "metadata": {},
   "outputs": [],
   "source": [
    "colour ={1: 'green', 2: 'black', 3: 'yellow', 4: 'brwn'}"
   ]
  },
  {
   "cell_type": "code",
   "execution_count": 68,
   "id": "b261272c",
   "metadata": {},
   "outputs": [
    {
     "data": {
      "text/plain": [
       "{1: 'green', 2: 'black', 3: 'yellow', 4: 'brwn'}"
      ]
     },
     "execution_count": 68,
     "metadata": {},
     "output_type": "execute_result"
    }
   ],
   "source": [
    "colour"
   ]
  },
  {
   "cell_type": "code",
   "execution_count": 70,
   "id": "bc5795a9",
   "metadata": {},
   "outputs": [],
   "source": [
    "cl2 = colour.copy() # this function create another copy of dict"
   ]
  },
  {
   "cell_type": "code",
   "execution_count": 71,
   "id": "92d707ea",
   "metadata": {},
   "outputs": [
    {
     "data": {
      "text/plain": [
       "{1: 'green', 2: 'black', 3: 'yellow', 4: 'brwn'}"
      ]
     },
     "execution_count": 71,
     "metadata": {},
     "output_type": "execute_result"
    }
   ],
   "source": [
    "cl2"
   ]
  },
  {
   "cell_type": "code",
   "execution_count": 77,
   "id": "07c3027e",
   "metadata": {},
   "outputs": [],
   "source": []
  },
  {
   "cell_type": "code",
   "execution_count": null,
   "id": "d794a487",
   "metadata": {},
   "outputs": [],
   "source": []
  },
  {
   "cell_type": "code",
   "execution_count": 110,
   "id": "5c1b9b33",
   "metadata": {},
   "outputs": [
    {
     "name": "stdout",
     "output_type": "stream",
     "text": [
      "(1, 'green')\n",
      "(2, 'black')\n",
      "(3, 'yellow')\n",
      "(4, 'brwn')\n"
     ]
    }
   ],
   "source": [
    "a=cl2.items() # return whole pait\n",
    "for i in a:\n",
    "    print(i)"
   ]
  },
  {
   "cell_type": "code",
   "execution_count": 79,
   "id": "6abad02e",
   "metadata": {},
   "outputs": [
    {
     "data": {
      "text/plain": [
       "dict_keys([1, 2, 3, 4])"
      ]
     },
     "execution_count": 79,
     "metadata": {},
     "output_type": "execute_result"
    }
   ],
   "source": [
    "cl2.keys() # return keys"
   ]
  },
  {
   "cell_type": "code",
   "execution_count": 80,
   "id": "0fdf3780",
   "metadata": {},
   "outputs": [
    {
     "data": {
      "text/plain": [
       "dict_values(['green', 'black', 'yellow', 'brwn'])"
      ]
     },
     "execution_count": 80,
     "metadata": {},
     "output_type": "execute_result"
    }
   ],
   "source": [
    "cl2.values() # return values"
   ]
  },
  {
   "cell_type": "code",
   "execution_count": 81,
   "id": "cfb77c7b",
   "metadata": {},
   "outputs": [],
   "source": [
    "colour.update(veg)"
   ]
  },
  {
   "cell_type": "code",
   "execution_count": 82,
   "id": "583bf38e",
   "metadata": {},
   "outputs": [
    {
     "data": {
      "text/plain": [
       "{1: 'gibhi', 2: 'alu', 3: 'piaz', 4: 'tmatar'}"
      ]
     },
     "execution_count": 82,
     "metadata": {},
     "output_type": "execute_result"
    }
   ],
   "source": [
    "colour"
   ]
  },
  {
   "cell_type": "code",
   "execution_count": 86,
   "id": "9a9edb0c",
   "metadata": {},
   "outputs": [
    {
     "data": {
      "text/plain": [
       "'piaz'"
      ]
     },
     "execution_count": 86,
     "metadata": {},
     "output_type": "execute_result"
    }
   ],
   "source": [
    "colour.pop(3) # retrun values of given key"
   ]
  },
  {
   "cell_type": "code",
   "execution_count": 97,
   "id": "f169959d",
   "metadata": {},
   "outputs": [
    {
     "data": {
      "text/plain": [
       "'tmatar'"
      ]
     },
     "execution_count": 97,
     "metadata": {},
     "output_type": "execute_result"
    }
   ],
   "source": [
    "colour.get(4)"
   ]
  },
  {
   "cell_type": "markdown",
   "id": "12bed7f8",
   "metadata": {},
   "source": [
    "## "
   ]
  }
 ],
 "metadata": {
  "kernelspec": {
   "display_name": "Python 3 (ipykernel)",
   "language": "python",
   "name": "python3"
  },
  "language_info": {
   "codemirror_mode": {
    "name": "ipython",
    "version": 3
   },
   "file_extension": ".py",
   "mimetype": "text/x-python",
   "name": "python",
   "nbconvert_exporter": "python",
   "pygments_lexer": "ipython3",
   "version": "3.9.7"
  }
 },
 "nbformat": 4,
 "nbformat_minor": 5
}
